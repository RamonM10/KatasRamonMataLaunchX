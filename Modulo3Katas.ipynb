{
 "cells": [
  {
   "cell_type": "code",
   "execution_count": 4,
   "metadata": {},
   "outputs": [
    {
     "name": "stdout",
     "output_type": "stream",
     "text": [
      "¡Peligro! Un asteroide se acerca a gran velociodad\n"
     ]
    }
   ],
   "source": [
    "# Ejercicio 1\n",
    "\n",
    "asteroide = input(\"Que velocidad viene el asteroide\") # 49 km\n",
    "if int(asteroide) > 25:\n",
    "    print('¡Peligro! Un asteroide se acerca a gran velociodad')\n",
    "else:\n",
    "    print('¡Todo esta bien en el espacio!')"
   ]
  },
  {
   "cell_type": "code",
   "execution_count": 5,
   "metadata": {},
   "outputs": [
    {
     "name": "stdout",
     "output_type": "stream",
     "text": [
      "¡Nada esta brillando!\n"
     ]
    }
   ],
   "source": [
    "#Ejercicio 2\n",
    "\n",
    "asteroide = input(\"Que velocidad viene el asteroide\") # 19 Km\n",
    "if int(asteroide) > 20:\n",
    "    print('Mira! ¡Algo esta callendo del cielo!')\n",
    "elif asteroide == 20:\n",
    "    print('Mira! ¡El cielo se cae!!!')\n",
    "else:\n",
    "    print('¡Nada esta brillando!')"
   ]
  },
  {
   "cell_type": "code",
   "execution_count": 6,
   "metadata": {},
   "outputs": [
    {
     "name": "stdout",
     "output_type": "stream",
     "text": [
      "¡Mira! El cielo se esta callendo\n"
     ]
    }
   ],
   "source": [
    "# Ejercicio 3\n",
    "\n",
    "velocidad_asteroide = input(\"A que velocidad viene el asteroide\")   # 25\n",
    "tamano_asteroide =  input(\"Que tamañp tiene el asteroide\")     # 40\n",
    "if int(velocidad_asteroide) > 25 and int(tamano_asteroide) > 25:\n",
    "    print('Peligro, la tierra esta en peligro de destruirse!')\n",
    "elif int(velocidad_asteroide) >= 20:\n",
    "    print('¡Mira! El cielo se esta callendo')\n",
    "elif int(tamano_asteroide) < 25:\n",
    "    print('No esta pasando nada :)')\n",
    "else:\n",
    "    print('No esta pasando nada :)')\n"
   ]
  }
 ],
 "metadata": {
  "interpreter": {
   "hash": "69eb92836b941e979072a76c7fcfffe5419cca933cedd02cfafbdfca1a93358c"
  },
  "kernelspec": {
   "display_name": "Python 3.9.10 64-bit",
   "language": "python",
   "name": "python3"
  },
  "language_info": {
   "codemirror_mode": {
    "name": "ipython",
    "version": 3
   },
   "file_extension": ".py",
   "mimetype": "text/x-python",
   "name": "python",
   "nbconvert_exporter": "python",
   "pygments_lexer": "ipython3",
   "version": "3.9.10"
  },
  "orig_nbformat": 4
 },
 "nbformat": 4,
 "nbformat_minor": 2
}
