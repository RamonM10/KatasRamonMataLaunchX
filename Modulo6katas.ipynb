{
 "cells": [
  {
   "cell_type": "markdown",
   "metadata": {},
   "source": [
    "Ejercicio 1"
   ]
  },
  {
   "cell_type": "code",
   "execution_count": 1,
   "metadata": {},
   "outputs": [
    {
     "name": "stdout",
     "output_type": "stream",
     "text": [
      "Hay 8 planetas\n",
      "Pluton Es el ultimo planeta\n"
     ]
    }
   ],
   "source": [
    "# Creamos la lista planets y la mostramos\n",
    "planetas = ['Mercurio', 'Venus', 'Tierra', 'Marte', 'Jupiter', 'Saturno', 'Urano', 'Neptuno']\n",
    "print('Hay', len(planetas), 'planetas')\n",
    "# Agregamos a plutón y mostramos el último elemento\n",
    "planetas.append('Pluton')\n",
    "print(planetas[-1], 'Es el ultimo planeta')\n",
    "\n"
   ]
  },
  {
   "cell_type": "markdown",
   "metadata": {},
   "source": [
    "Ejercicio 2\n"
   ]
  },
  {
   "cell_type": "code",
   "execution_count": 5,
   "metadata": {},
   "outputs": [
    {
     "name": "stdout",
     "output_type": "stream",
     "text": [
      "Estos planetas estan mas cercas del sol que : Jupiter\n",
      "['Mercurio', 'Venus', 'Tierra', 'Marte']\n",
      "Estos planetas estan mas lejos del sol que : Jupiter\n",
      "['Saturno', 'Urano', 'Neptuno']\n"
     ]
    }
   ],
   "source": [
    "# Lista de planetas\n",
    "planetas = ['Mercurio', 'Venus', 'Tierra', 'Marte', 'Jupiter', 'Saturno', 'Urano', 'Neptuno']\n",
    "# Solicitamos el nombre de un planeta *Pista:  input()*\n",
    "SolicitarPlaneta = input('Ingresa el nombre del planeta')\n",
    "# Busca el planeta en la lista\n",
    "planeta = planetas.index(SolicitarPlaneta)\n",
    "# Muestra los planetas más cercanos al sol\n",
    "print('Este planetas esta mas cercas del sol que : ' + SolicitarPlaneta)\n",
    "print(planetas[0:planeta])\n",
    "# Muestra los planetas más lejanos al sol\n",
    "print('Este planetas esta mas lejos del sol que : ' + SolicitarPlaneta)\n",
    "print(planetas[planeta + 1:])"
   ]
  }
 ],
 "metadata": {
  "interpreter": {
   "hash": "69eb92836b941e979072a76c7fcfffe5419cca933cedd02cfafbdfca1a93358c"
  },
  "kernelspec": {
   "display_name": "Python 3.9.10 64-bit",
   "language": "python",
   "name": "python3"
  },
  "language_info": {
   "codemirror_mode": {
    "name": "ipython",
    "version": 3
   },
   "file_extension": ".py",
   "mimetype": "text/x-python",
   "name": "python",
   "nbconvert_exporter": "python",
   "pygments_lexer": "ipython3",
   "version": "3.9.10"
  },
  "orig_nbformat": 4
 },
 "nbformat": 4,
 "nbformat_minor": 2
}
